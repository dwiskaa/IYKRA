{
 "cells": [
  {
   "cell_type": "code",
   "execution_count": 37,
   "metadata": {},
   "outputs": [
    {
     "data": {
      "text/html": [
       "        <script type=\"text/javascript\">\n",
       "        window.PlotlyConfig = {MathJaxConfig: 'local'};\n",
       "        if (window.MathJax) {MathJax.Hub.Config({SVG: {font: \"STIX-Web\"}});}\n",
       "        if (typeof require !== 'undefined') {\n",
       "        require.undef(\"plotly\");\n",
       "        requirejs.config({\n",
       "            paths: {\n",
       "                'plotly': ['https://cdn.plot.ly/plotly-latest.min']\n",
       "            }\n",
       "        });\n",
       "        require(['plotly'], function(Plotly) {\n",
       "            window._Plotly = Plotly;\n",
       "        });\n",
       "        }\n",
       "        </script>\n",
       "        "
      ]
     },
     "metadata": {},
     "output_type": "display_data"
    }
   ],
   "source": [
    "#Importing Libraries\n",
    "import pandas as pd\n",
    "import numpy as np\n",
    "import seaborn as sns\n",
    "import matplotlib.pyplot as plt\n",
    "%matplotlib inline\n",
    "import researchpy as rp\n",
    "\n",
    "import plotly.offline as py\n",
    "from plotly.offline import init_notebook_mode, iplot\n",
    "import plotly.graph_objs as go\n",
    "from plotly import tools\n",
    "init_notebook_mode(connected=True)  \n",
    "import plotly.figure_factory as ff"
   ]
  },
  {
   "cell_type": "code",
   "execution_count": 38,
   "metadata": {},
   "outputs": [],
   "source": [
    "#reading Dataset\n",
    "df=pd.read_csv(r'D:\\Dwiska\\IYKRA\\DFS Batch 5\\4. Statistics\\Fellowship-5-main\\epl_1819.csv',sep=',')"
   ]
  },
  {
   "cell_type": "code",
   "execution_count": 39,
   "metadata": {
    "scrolled": true
   },
   "outputs": [
    {
     "data": {
      "text/html": [
       "<div>\n",
       "<style scoped>\n",
       "    .dataframe tbody tr th:only-of-type {\n",
       "        vertical-align: middle;\n",
       "    }\n",
       "\n",
       "    .dataframe tbody tr th {\n",
       "        vertical-align: top;\n",
       "    }\n",
       "\n",
       "    .dataframe thead th {\n",
       "        text-align: right;\n",
       "    }\n",
       "</style>\n",
       "<table border=\"1\" class=\"dataframe\">\n",
       "  <thead>\n",
       "    <tr style=\"text-align: right;\">\n",
       "      <th></th>\n",
       "      <th>Team</th>\n",
       "      <th>category</th>\n",
       "      <th>general_league_position</th>\n",
       "      <th>finance _live_games_televised</th>\n",
       "      <th>finance _tv_revenue</th>\n",
       "      <th>general_matches_played</th>\n",
       "      <th>general_won</th>\n",
       "      <th>general_draw</th>\n",
       "      <th>general_lost</th>\n",
       "      <th>attack_scored</th>\n",
       "      <th>...</th>\n",
       "      <th>defence_saves</th>\n",
       "      <th>defence_blocks</th>\n",
       "      <th>defence_interceptions</th>\n",
       "      <th>defence_tackles</th>\n",
       "      <th>defence_tackles_last_man</th>\n",
       "      <th>defence_clearances</th>\n",
       "      <th>defence_clearances_headed</th>\n",
       "      <th>defence_penalty_conceeded</th>\n",
       "      <th>attack_posession</th>\n",
       "      <th>attack_pass_accuracy</th>\n",
       "    </tr>\n",
       "  </thead>\n",
       "  <tbody>\n",
       "    <tr>\n",
       "      <th>0</th>\n",
       "      <td>Manchester City</td>\n",
       "      <td>Champions League</td>\n",
       "      <td>1</td>\n",
       "      <td>26</td>\n",
       "      <td>150986355</td>\n",
       "      <td>38</td>\n",
       "      <td>32</td>\n",
       "      <td>2</td>\n",
       "      <td>4</td>\n",
       "      <td>95</td>\n",
       "      <td>...</td>\n",
       "      <td>58</td>\n",
       "      <td>63</td>\n",
       "      <td>362</td>\n",
       "      <td>518</td>\n",
       "      <td>0</td>\n",
       "      <td>543</td>\n",
       "      <td>295</td>\n",
       "      <td>4</td>\n",
       "      <td>64.0</td>\n",
       "      <td>89.0</td>\n",
       "    </tr>\n",
       "    <tr>\n",
       "      <th>1</th>\n",
       "      <td>Liverpool</td>\n",
       "      <td>Champions League</td>\n",
       "      <td>2</td>\n",
       "      <td>29</td>\n",
       "      <td>152425146</td>\n",
       "      <td>38</td>\n",
       "      <td>30</td>\n",
       "      <td>7</td>\n",
       "      <td>1</td>\n",
       "      <td>89</td>\n",
       "      <td>...</td>\n",
       "      <td>76</td>\n",
       "      <td>78</td>\n",
       "      <td>314</td>\n",
       "      <td>610</td>\n",
       "      <td>2</td>\n",
       "      <td>639</td>\n",
       "      <td>317</td>\n",
       "      <td>1</td>\n",
       "      <td>58.8</td>\n",
       "      <td>84.4</td>\n",
       "    </tr>\n",
       "    <tr>\n",
       "      <th>2</th>\n",
       "      <td>Chelsea</td>\n",
       "      <td>Champions League Qualification</td>\n",
       "      <td>3</td>\n",
       "      <td>25</td>\n",
       "      <td>146030216</td>\n",
       "      <td>38</td>\n",
       "      <td>21</td>\n",
       "      <td>9</td>\n",
       "      <td>8</td>\n",
       "      <td>63</td>\n",
       "      <td>...</td>\n",
       "      <td>85</td>\n",
       "      <td>73</td>\n",
       "      <td>351</td>\n",
       "      <td>618</td>\n",
       "      <td>2</td>\n",
       "      <td>593</td>\n",
       "      <td>330</td>\n",
       "      <td>2</td>\n",
       "      <td>59.9</td>\n",
       "      <td>87.6</td>\n",
       "    </tr>\n",
       "  </tbody>\n",
       "</table>\n",
       "<p>3 rows × 44 columns</p>\n",
       "</div>"
      ],
      "text/plain": [
       "              Team                        category  general_league_position  \\\n",
       "0  Manchester City                Champions League                        1   \n",
       "1        Liverpool                Champions League                        2   \n",
       "2          Chelsea  Champions League Qualification                        3   \n",
       "\n",
       "   finance _live_games_televised  finance _tv_revenue  general_matches_played  \\\n",
       "0                             26            150986355                      38   \n",
       "1                             29            152425146                      38   \n",
       "2                             25            146030216                      38   \n",
       "\n",
       "   general_won  general_draw  general_lost  attack_scored  ...  defence_saves  \\\n",
       "0           32             2             4             95  ...             58   \n",
       "1           30             7             1             89  ...             76   \n",
       "2           21             9             8             63  ...             85   \n",
       "\n",
       "   defence_blocks  defence_interceptions  defence_tackles  \\\n",
       "0              63                    362              518   \n",
       "1              78                    314              610   \n",
       "2              73                    351              618   \n",
       "\n",
       "   defence_tackles_last_man  defence_clearances  defence_clearances_headed  \\\n",
       "0                         0                 543                        295   \n",
       "1                         2                 639                        317   \n",
       "2                         2                 593                        330   \n",
       "\n",
       "   defence_penalty_conceeded attack_posession  attack_pass_accuracy  \n",
       "0                          4             64.0                  89.0  \n",
       "1                          1             58.8                  84.4  \n",
       "2                          2             59.9                  87.6  \n",
       "\n",
       "[3 rows x 44 columns]"
      ]
     },
     "execution_count": 39,
     "metadata": {},
     "output_type": "execute_result"
    }
   ],
   "source": [
    "df.head(3)"
   ]
  },
  {
   "cell_type": "markdown",
   "metadata": {},
   "source": [
    "# 1. Whether this data is clean?"
   ]
  },
  {
   "cell_type": "code",
   "execution_count": 40,
   "metadata": {},
   "outputs": [
    {
     "name": "stdout",
     "output_type": "stream",
     "text": [
      "<class 'pandas.core.frame.DataFrame'>\n",
      "RangeIndex: 20 entries, 0 to 19\n",
      "Data columns (total 44 columns):\n",
      " #   Column                         Non-Null Count  Dtype  \n",
      "---  ------                         --------------  -----  \n",
      " 0   Team                           20 non-null     object \n",
      " 1   category                       20 non-null     object \n",
      " 2   general_league_position        20 non-null     int64  \n",
      " 3   finance _live_games_televised  20 non-null     int64  \n",
      " 4   finance _tv_revenue            20 non-null     int64  \n",
      " 5   general_matches_played         20 non-null     int64  \n",
      " 6   general_won                    20 non-null     int64  \n",
      " 7   general_draw                   20 non-null     int64  \n",
      " 8   general_lost                   20 non-null     int64  \n",
      " 9   attack_scored                  20 non-null     int64  \n",
      " 10  defence_goals_conceeded        20 non-null     int64  \n",
      " 11  general_goal_difference        20 non-null     int64  \n",
      " 12  general_points                 20 non-null     int64  \n",
      " 13  general_squad_size             20 non-null     int64  \n",
      " 14  general_squad_average_age      20 non-null     float64\n",
      " 15  general_squad_foreigners       20 non-null     int64  \n",
      " 16  finance _team_market           20 non-null     int64  \n",
      " 17  finance _market_average        20 non-null     int64  \n",
      " 18  attack_passes                  20 non-null     object \n",
      " 19  attack_passes_through          20 non-null     int64  \n",
      " 20  attack_passes_long             20 non-null     object \n",
      " 21  attack_passes_back             20 non-null     object \n",
      " 22  attack_crosses                 20 non-null     int64  \n",
      " 23  attack_corners_taken           20 non-null     int64  \n",
      " 24  attack_shots                   20 non-null     int64  \n",
      " 25  attack_shots_on_target         20 non-null     int64  \n",
      " 26  attack_goals_headed            20 non-null     int64  \n",
      " 27  attack_goals_penalty           20 non-null     int64  \n",
      " 28  attack_goals_box               20 non-null     int64  \n",
      " 29  attack_goals_outsidebox        20 non-null     int64  \n",
      " 30  general_card_yellow            20 non-null     int64  \n",
      " 31  general_card_red               20 non-null     int64  \n",
      " 32  attack_goals_counter           20 non-null     int64  \n",
      " 33  attack_goals_freekick          20 non-null     int64  \n",
      " 34  defence_saves                  20 non-null     int64  \n",
      " 35  defence_blocks                 20 non-null     int64  \n",
      " 36  defence_interceptions          20 non-null     int64  \n",
      " 37  defence_tackles                20 non-null     int64  \n",
      " 38  defence_tackles_last_man       20 non-null     int64  \n",
      " 39  defence_clearances             20 non-null     object \n",
      " 40  defence_clearances_headed      20 non-null     int64  \n",
      " 41  defence_penalty_conceeded      20 non-null     int64  \n",
      " 42  attack_posession               20 non-null     float64\n",
      " 43  attack_pass_accuracy           20 non-null     float64\n",
      "dtypes: float64(3), int64(35), object(6)\n",
      "memory usage: 7.0+ KB\n"
     ]
    },
    {
     "data": {
      "text/plain": [
       "(20, 44)"
      ]
     },
     "execution_count": 40,
     "metadata": {},
     "output_type": "execute_result"
    }
   ],
   "source": [
    "# checking missing values, columns type, row numbers and column numbers\n",
    "df.info()\n",
    "df.shape"
   ]
  },
  {
   "cell_type": "code",
   "execution_count": 41,
   "metadata": {
    "scrolled": false
   },
   "outputs": [
    {
     "data": {
      "text/plain": [
       "(20, 44)"
      ]
     },
     "execution_count": 41,
     "metadata": {},
     "output_type": "execute_result"
    }
   ],
   "source": [
    "df.drop_duplicates(subset = 'Team')\n",
    "df.shape"
   ]
  },
  {
   "cell_type": "markdown",
   "metadata": {},
   "source": [
    "### Because there are incompatibility data type for column 'attack_passes','attack_passes_long','attack_passes_back','defence_clearances', so the data set is not clear and we should change its data type first"
   ]
  },
  {
   "cell_type": "code",
   "execution_count": 42,
   "metadata": {},
   "outputs": [
    {
     "data": {
      "text/plain": [
       "0     26,581\n",
       "1     23,638\n",
       "2     25,070\n",
       "3     21,295\n",
       "4     20,805\n",
       "5     19,202\n",
       "6     16,618\n",
       "7     16,494\n",
       "8     17,219\n",
       "9     16,358\n",
       "10    15,462\n",
       "11    15,243\n",
       "12    13,490\n",
       "13    15,943\n",
       "14    13,011\n",
       "15    14,297\n",
       "16    14,109\n",
       "17    10,226\n",
       "18    17,699\n",
       "19    15,902\n",
       "Name: attack_passes, dtype: object"
      ]
     },
     "execution_count": 42,
     "metadata": {},
     "output_type": "execute_result"
    }
   ],
   "source": [
    "df['attack_passes']"
   ]
  },
  {
   "cell_type": "code",
   "execution_count": 43,
   "metadata": {},
   "outputs": [],
   "source": [
    "df['attack_passes']=df['attack_passes'].str.replace(',','')\n",
    "df['attack_passes_long']=df['attack_passes_long'].str.replace(',','')\n",
    "df['attack_passes_back']=df['attack_passes_back'].str.replace(',','')\n",
    "df['defence_clearances']=df['defence_clearances'].str.replace(',','')\n",
    "df['attack_passes'].dtype\n",
    "df['attack_passes_long'].dtype\n",
    "df['attack_passes_back'].dtype\n",
    "df['defence_clearances'].dtype\n",
    "df['attack_passes'] = pd.to_numeric(df['attack_passes'])\n",
    "df['attack_passes_long']= pd.to_numeric(df['attack_passes_long'])\n",
    "df['attack_passes_back']= pd.to_numeric(df['attack_passes_back'])\n",
    "df['defence_clearances']= pd.to_numeric(df['defence_clearances'])"
   ]
  },
  {
   "cell_type": "code",
   "execution_count": 31,
   "metadata": {},
   "outputs": [
    {
     "name": "stdout",
     "output_type": "stream",
     "text": [
      "<class 'pandas.core.frame.DataFrame'>\n",
      "RangeIndex: 20 entries, 0 to 19\n",
      "Data columns (total 44 columns):\n",
      " #   Column                         Non-Null Count  Dtype  \n",
      "---  ------                         --------------  -----  \n",
      " 0   Team                           20 non-null     object \n",
      " 1   category                       20 non-null     object \n",
      " 2   general_league_position        20 non-null     int64  \n",
      " 3   finance _live_games_televised  20 non-null     int64  \n",
      " 4   finance _tv_revenue            20 non-null     int64  \n",
      " 5   general_matches_played         20 non-null     int64  \n",
      " 6   general_won                    20 non-null     int64  \n",
      " 7   general_draw                   20 non-null     int64  \n",
      " 8   general_lost                   20 non-null     int64  \n",
      " 9   attack_scored                  20 non-null     int64  \n",
      " 10  defence_goals_conceeded        20 non-null     int64  \n",
      " 11  general_goal_difference        20 non-null     int64  \n",
      " 12  general_points                 20 non-null     int64  \n",
      " 13  general_squad_size             20 non-null     int64  \n",
      " 14  general_squad_average_age      20 non-null     float64\n",
      " 15  general_squad_foreigners       20 non-null     int64  \n",
      " 16  finance _team_market           20 non-null     int64  \n",
      " 17  finance _market_average        20 non-null     int64  \n",
      " 18  attack_passes                  20 non-null     int64  \n",
      " 19  attack_passes_through          20 non-null     int64  \n",
      " 20  attack_passes_long             20 non-null     int64  \n",
      " 21  attack_passes_back             20 non-null     int64  \n",
      " 22  attack_crosses                 20 non-null     int64  \n",
      " 23  attack_corners_taken           20 non-null     int64  \n",
      " 24  attack_shots                   20 non-null     int64  \n",
      " 25  attack_shots_on_target         20 non-null     int64  \n",
      " 26  attack_goals_headed            20 non-null     int64  \n",
      " 27  attack_goals_penalty           20 non-null     int64  \n",
      " 28  attack_goals_box               20 non-null     int64  \n",
      " 29  attack_goals_outsidebox        20 non-null     int64  \n",
      " 30  general_card_yellow            20 non-null     int64  \n",
      " 31  general_card_red               20 non-null     int64  \n",
      " 32  attack_goals_counter           20 non-null     int64  \n",
      " 33  attack_goals_freekick          20 non-null     int64  \n",
      " 34  defence_saves                  20 non-null     int64  \n",
      " 35  defence_blocks                 20 non-null     int64  \n",
      " 36  defence_interceptions          20 non-null     int64  \n",
      " 37  defence_tackles                20 non-null     int64  \n",
      " 38  defence_tackles_last_man       20 non-null     int64  \n",
      " 39  defence_clearances             20 non-null     int64  \n",
      " 40  defence_clearances_headed      20 non-null     int64  \n",
      " 41  defence_penalty_conceeded      20 non-null     int64  \n",
      " 42  attack_posession               20 non-null     float64\n",
      " 43  attack_pass_accuracy           20 non-null     float64\n",
      "dtypes: float64(3), int64(39), object(2)\n",
      "memory usage: 7.0+ KB\n"
     ]
    }
   ],
   "source": [
    "df.info()"
   ]
  },
  {
   "cell_type": "markdown",
   "metadata": {},
   "source": [
    "# Type of Features"
   ]
  },
  {
   "cell_type": "markdown",
   "metadata": {},
   "source": [
    "## Categorical Features: \n",
    "A categorical variable is one that has two or more categories and each value in that feature can be categorised by them.For example, gender is a categorical variable having two categories (male and female). Now we cannot sort or give any ordering to such variables. They are also known as Nominal Variables.\n",
    "\n",
    "Categorical Features in the dataset: Category\n",
    "    "
   ]
  },
  {
   "cell_type": "markdown",
   "metadata": {},
   "source": [
    "## Ordinal Features: \n",
    "An ordinal variable is similar to categorical values, but the difference between them is that we can have relative ordering or sorting between the values. For eg: If we have a feature like Height with values Tall, Medium, Short, then Height is a ordinal variable. Here we can have a relative sort in the variable.\n",
    "\n",
    "Ordinal Features in the dataset: general_league_position\n",
    "    "
   ]
  },
  {
   "cell_type": "markdown",
   "metadata": {},
   "source": [
    "## Continuous Features: \n",
    "A feature is said to be continous if it can take values between any two points or between the minimum or maximum values in the features column.\n",
    "\n",
    "Continuous Features in the dataset: all columns except team, category and general_league_position\n",
    "    "
   ]
  },
  {
   "cell_type": "markdown",
   "metadata": {},
   "source": [
    "# Analyzing The Features"
   ]
  },
  {
   "cell_type": "code",
   "execution_count": 66,
   "metadata": {
    "scrolled": true
   },
   "outputs": [
    {
     "data": {
      "text/plain": [
       "category\n",
       "Champions League                   2\n",
       "Champions League Qualification     2\n",
       "Europa League                      2\n",
       "Europa League Qualification        1\n",
       "No UEFA Competitions              10\n",
       "Relegated                          3\n",
       "Name: Team, dtype: int64"
      ]
     },
     "execution_count": 66,
     "metadata": {},
     "output_type": "execute_result"
    }
   ],
   "source": [
    "df.groupby(['category'])['Team'].count()\n",
    "\n"
   ]
  },
  {
   "cell_type": "code",
   "execution_count": 67,
   "metadata": {},
   "outputs": [
    {
     "data": {
      "text/plain": [
       "<matplotlib.axes._subplots.AxesSubplot at 0x1b1b7440148>"
      ]
     },
     "execution_count": 67,
     "metadata": {},
     "output_type": "execute_result"
    },
    {
     "data": {
      "image/png": "[encoded data removed]",
      "text/plain": [
       "<Figure size 432x288 with 1 Axes>"
      ]
     },
     "metadata": {
      "needs_background": "light"
     },
     "output_type": "display_data"
    }
   ],
   "source": [
    "df.category.value_counts().plot(kind='bar')"
   ]
  },
  {
   "cell_type": "markdown",
   "metadata": {},
   "source": [
    "# 2. How is the point distribution of the epl team? and which team is an anomaly?"
   ]
  },
  {
   "cell_type": "code",
   "execution_count": 65,
   "metadata": {},
   "outputs": [
    {
     "data": {
      "image/png": "[encoded data removed]",
      "text/plain": [
       "<Figure size 432x288 with 1 Axes>"
      ]
     },
     "metadata": {
      "needs_background": "light"
     },
     "output_type": "display_data"
    }
   ],
   "source": [
    "boxplot = df.boxplot(column=['general_points'])"
   ]
  },
  {
   "cell_type": "code",
   "execution_count": 68,
   "metadata": {},
   "outputs": [
    {
     "data": {
      "text/plain": [
       "<matplotlib.axes._subplots.AxesSubplot at 0x1b1b88c2708>"
      ]
     },
     "execution_count": 68,
     "metadata": {},
     "output_type": "execute_result"
    },
    {
     "data": {
      "image/png": "[encoded data removed]",
      "text/plain": [
       "<Figure size 432x288 with 1 Axes>"
      ]
     },
     "metadata": {
      "needs_background": "light"
     },
     "output_type": "display_data"
    }
   ],
   "source": [
    "sns.distplot(df['general_points'])"
   ]
  },
  {
   "cell_type": "code",
   "execution_count": 76,
   "metadata": {},
   "outputs": [
    {
     "data": {
      "text/plain": [
       "count    20.000000\n",
       "mean     53.450000\n",
       "std      21.007455\n",
       "min      16.000000\n",
       "25%      39.750000\n",
       "50%      51.000000\n",
       "75%      67.000000\n",
       "max      98.000000\n",
       "Name: general_points, dtype: float64"
      ]
     },
     "execution_count": 76,
     "metadata": {},
     "output_type": "execute_result"
    }
   ],
   "source": [
    "df['general_points'].describe()"
   ]
  },
  {
   "cell_type": "code",
   "execution_count": 44,
   "metadata": {},
   "outputs": [
    {
     "data": {
      "text/plain": [
       "ModeResult(mode=array([45], dtype=int64), count=array([2]))"
      ]
     },
     "execution_count": 44,
     "metadata": {},
     "output_type": "execute_result"
    }
   ],
   "source": [
    "from scipy import stats\n",
    "stats.mode(df['general_points'])"
   ]
  },
  {
   "cell_type": "markdown",
   "metadata": {},
   "source": [
    "# 3. Which team has the best attack?"
   ]
  },
  {
   "cell_type": "code",
   "execution_count": 52,
   "metadata": {},
   "outputs": [],
   "source": [
    "# 3. calculated best attack by deviding attack_scored with general_match_played\n",
    "df['attack'] = df['attack_scored']/df['general_matches_played']"
   ]
  },
  {
   "cell_type": "code",
   "execution_count": 57,
   "metadata": {},
   "outputs": [
    {
     "data": {
      "text/html": [
       "<div>\n",
       "<style scoped>\n",
       "    .dataframe tbody tr th:only-of-type {\n",
       "        vertical-align: middle;\n",
       "    }\n",
       "\n",
       "    .dataframe tbody tr th {\n",
       "        vertical-align: top;\n",
       "    }\n",
       "\n",
       "    .dataframe thead th {\n",
       "        text-align: right;\n",
       "    }\n",
       "</style>\n",
       "<table border=\"1\" class=\"dataframe\">\n",
       "  <thead>\n",
       "    <tr style=\"text-align: right;\">\n",
       "      <th></th>\n",
       "      <th>Team</th>\n",
       "      <th>attack</th>\n",
       "    </tr>\n",
       "  </thead>\n",
       "  <tbody>\n",
       "    <tr>\n",
       "      <th>0</th>\n",
       "      <td>Manchester City</td>\n",
       "      <td>2.500000</td>\n",
       "    </tr>\n",
       "    <tr>\n",
       "      <th>1</th>\n",
       "      <td>Liverpool</td>\n",
       "      <td>2.342105</td>\n",
       "    </tr>\n",
       "    <tr>\n",
       "      <th>4</th>\n",
       "      <td>Arsenal</td>\n",
       "      <td>1.921053</td>\n",
       "    </tr>\n",
       "    <tr>\n",
       "      <th>3</th>\n",
       "      <td>Tottenham</td>\n",
       "      <td>1.763158</td>\n",
       "    </tr>\n",
       "    <tr>\n",
       "      <th>5</th>\n",
       "      <td>Manchester United</td>\n",
       "      <td>1.710526</td>\n",
       "    </tr>\n",
       "    <tr>\n",
       "      <th>2</th>\n",
       "      <td>Chelsea</td>\n",
       "      <td>1.657895</td>\n",
       "    </tr>\n",
       "    <tr>\n",
       "      <th>13</th>\n",
       "      <td>Bournemouth</td>\n",
       "      <td>1.473684</td>\n",
       "    </tr>\n",
       "    <tr>\n",
       "      <th>7</th>\n",
       "      <td>Everton</td>\n",
       "      <td>1.421053</td>\n",
       "    </tr>\n",
       "    <tr>\n",
       "      <th>9</th>\n",
       "      <td>West Ham</td>\n",
       "      <td>1.368421</td>\n",
       "    </tr>\n",
       "    <tr>\n",
       "      <th>10</th>\n",
       "      <td>Watford</td>\n",
       "      <td>1.368421</td>\n",
       "    </tr>\n",
       "    <tr>\n",
       "      <th>8</th>\n",
       "      <td>Leicester</td>\n",
       "      <td>1.342105</td>\n",
       "    </tr>\n",
       "    <tr>\n",
       "      <th>11</th>\n",
       "      <td>Crystal Palace</td>\n",
       "      <td>1.342105</td>\n",
       "    </tr>\n",
       "    <tr>\n",
       "      <th>6</th>\n",
       "      <td>Wolverhampton</td>\n",
       "      <td>1.236842</td>\n",
       "    </tr>\n",
       "    <tr>\n",
       "      <th>14</th>\n",
       "      <td>Burnley</td>\n",
       "      <td>1.184211</td>\n",
       "    </tr>\n",
       "    <tr>\n",
       "      <th>15</th>\n",
       "      <td>Southampton</td>\n",
       "      <td>1.184211</td>\n",
       "    </tr>\n",
       "    <tr>\n",
       "      <th>12</th>\n",
       "      <td>Newcastle</td>\n",
       "      <td>1.105263</td>\n",
       "    </tr>\n",
       "    <tr>\n",
       "      <th>16</th>\n",
       "      <td>Brighton</td>\n",
       "      <td>0.921053</td>\n",
       "    </tr>\n",
       "    <tr>\n",
       "      <th>17</th>\n",
       "      <td>Cardiff</td>\n",
       "      <td>0.894737</td>\n",
       "    </tr>\n",
       "    <tr>\n",
       "      <th>18</th>\n",
       "      <td>Fulham</td>\n",
       "      <td>0.894737</td>\n",
       "    </tr>\n",
       "    <tr>\n",
       "      <th>19</th>\n",
       "      <td>Huddersfield</td>\n",
       "      <td>0.578947</td>\n",
       "    </tr>\n",
       "  </tbody>\n",
       "</table>\n",
       "</div>"
      ],
      "text/plain": [
       "                 Team    attack\n",
       "0     Manchester City  2.500000\n",
       "1           Liverpool  2.342105\n",
       "4             Arsenal  1.921053\n",
       "3           Tottenham  1.763158\n",
       "5   Manchester United  1.710526\n",
       "2             Chelsea  1.657895\n",
       "13        Bournemouth  1.473684\n",
       "7             Everton  1.421053\n",
       "9            West Ham  1.368421\n",
       "10            Watford  1.368421\n",
       "8           Leicester  1.342105\n",
       "11     Crystal Palace  1.342105\n",
       "6       Wolverhampton  1.236842\n",
       "14            Burnley  1.184211\n",
       "15        Southampton  1.184211\n",
       "12          Newcastle  1.105263\n",
       "16           Brighton  0.921053\n",
       "17            Cardiff  0.894737\n",
       "18             Fulham  0.894737\n",
       "19       Huddersfield  0.578947"
      ]
     },
     "execution_count": 57,
     "metadata": {},
     "output_type": "execute_result"
    }
   ],
   "source": [
    "df[['Team','attack']].sort_values(by='attack', ascending=False)"
   ]
  },
  {
   "cell_type": "markdown",
   "metadata": {},
   "source": [
    "# 4. Which team has the best defence?"
   ]
  },
  {
   "cell_type": "code",
   "execution_count": 59,
   "metadata": {},
   "outputs": [],
   "source": [
    "df['defence'] = df['defence_goals_conceeded']/df['general_matches_played']"
   ]
  },
  {
   "cell_type": "code",
   "execution_count": 60,
   "metadata": {},
   "outputs": [
    {
     "data": {
      "text/html": [
       "<div>\n",
       "<style scoped>\n",
       "    .dataframe tbody tr th:only-of-type {\n",
       "        vertical-align: middle;\n",
       "    }\n",
       "\n",
       "    .dataframe tbody tr th {\n",
       "        vertical-align: top;\n",
       "    }\n",
       "\n",
       "    .dataframe thead th {\n",
       "        text-align: right;\n",
       "    }\n",
       "</style>\n",
       "<table border=\"1\" class=\"dataframe\">\n",
       "  <thead>\n",
       "    <tr style=\"text-align: right;\">\n",
       "      <th></th>\n",
       "      <th>Team</th>\n",
       "      <th>defence</th>\n",
       "    </tr>\n",
       "  </thead>\n",
       "  <tbody>\n",
       "    <tr>\n",
       "      <th>1</th>\n",
       "      <td>Liverpool</td>\n",
       "      <td>0.578947</td>\n",
       "    </tr>\n",
       "    <tr>\n",
       "      <th>0</th>\n",
       "      <td>Manchester City</td>\n",
       "      <td>0.605263</td>\n",
       "    </tr>\n",
       "    <tr>\n",
       "      <th>2</th>\n",
       "      <td>Chelsea</td>\n",
       "      <td>1.026316</td>\n",
       "    </tr>\n",
       "    <tr>\n",
       "      <th>3</th>\n",
       "      <td>Tottenham</td>\n",
       "      <td>1.026316</td>\n",
       "    </tr>\n",
       "    <tr>\n",
       "      <th>6</th>\n",
       "      <td>Wolverhampton</td>\n",
       "      <td>1.210526</td>\n",
       "    </tr>\n",
       "    <tr>\n",
       "      <th>7</th>\n",
       "      <td>Everton</td>\n",
       "      <td>1.210526</td>\n",
       "    </tr>\n",
       "    <tr>\n",
       "      <th>8</th>\n",
       "      <td>Leicester</td>\n",
       "      <td>1.263158</td>\n",
       "    </tr>\n",
       "    <tr>\n",
       "      <th>12</th>\n",
       "      <td>Newcastle</td>\n",
       "      <td>1.263158</td>\n",
       "    </tr>\n",
       "    <tr>\n",
       "      <th>4</th>\n",
       "      <td>Arsenal</td>\n",
       "      <td>1.342105</td>\n",
       "    </tr>\n",
       "    <tr>\n",
       "      <th>11</th>\n",
       "      <td>Crystal Palace</td>\n",
       "      <td>1.394737</td>\n",
       "    </tr>\n",
       "    <tr>\n",
       "      <th>5</th>\n",
       "      <td>Manchester United</td>\n",
       "      <td>1.421053</td>\n",
       "    </tr>\n",
       "    <tr>\n",
       "      <th>9</th>\n",
       "      <td>West Ham</td>\n",
       "      <td>1.447368</td>\n",
       "    </tr>\n",
       "    <tr>\n",
       "      <th>10</th>\n",
       "      <td>Watford</td>\n",
       "      <td>1.552632</td>\n",
       "    </tr>\n",
       "    <tr>\n",
       "      <th>16</th>\n",
       "      <td>Brighton</td>\n",
       "      <td>1.578947</td>\n",
       "    </tr>\n",
       "    <tr>\n",
       "      <th>15</th>\n",
       "      <td>Southampton</td>\n",
       "      <td>1.710526</td>\n",
       "    </tr>\n",
       "    <tr>\n",
       "      <th>14</th>\n",
       "      <td>Burnley</td>\n",
       "      <td>1.789474</td>\n",
       "    </tr>\n",
       "    <tr>\n",
       "      <th>17</th>\n",
       "      <td>Cardiff</td>\n",
       "      <td>1.815789</td>\n",
       "    </tr>\n",
       "    <tr>\n",
       "      <th>13</th>\n",
       "      <td>Bournemouth</td>\n",
       "      <td>1.842105</td>\n",
       "    </tr>\n",
       "    <tr>\n",
       "      <th>19</th>\n",
       "      <td>Huddersfield</td>\n",
       "      <td>2.000000</td>\n",
       "    </tr>\n",
       "    <tr>\n",
       "      <th>18</th>\n",
       "      <td>Fulham</td>\n",
       "      <td>2.131579</td>\n",
       "    </tr>\n",
       "  </tbody>\n",
       "</table>\n",
       "</div>"
      ],
      "text/plain": [
       "                 Team   defence\n",
       "1           Liverpool  0.578947\n",
       "0     Manchester City  0.605263\n",
       "2             Chelsea  1.026316\n",
       "3           Tottenham  1.026316\n",
       "6       Wolverhampton  1.210526\n",
       "7             Everton  1.210526\n",
       "8           Leicester  1.263158\n",
       "12          Newcastle  1.263158\n",
       "4             Arsenal  1.342105\n",
       "11     Crystal Palace  1.394737\n",
       "5   Manchester United  1.421053\n",
       "9            West Ham  1.447368\n",
       "10            Watford  1.552632\n",
       "16           Brighton  1.578947\n",
       "15        Southampton  1.710526\n",
       "14            Burnley  1.789474\n",
       "17            Cardiff  1.815789\n",
       "13        Bournemouth  1.842105\n",
       "19       Huddersfield  2.000000\n",
       "18             Fulham  2.131579"
      ]
     },
     "execution_count": 60,
     "metadata": {},
     "output_type": "execute_result"
    }
   ],
   "source": [
    "df[['Team','defence']].sort_values(by='defence', ascending=True)"
   ]
  },
  {
   "cell_type": "markdown",
   "metadata": {},
   "source": [
    "# 5. Which team is good in financial aspect?"
   ]
  },
  {
   "cell_type": "markdown",
   "metadata": {},
   "source": [
    "### The team with good financial aspect should have high market values and high average money allotted from the TV rights deal."
   ]
  },
  {
   "cell_type": "code",
   "execution_count": 86,
   "metadata": {},
   "outputs": [],
   "source": [
    "df['finance'] = (df['finance _tv_revenue']/df['finance _live_games_televised']) + df['finance _team_market']"
   ]
  },
  {
   "cell_type": "code",
   "execution_count": 87,
   "metadata": {},
   "outputs": [
    {
     "data": {
      "text/html": [
       "<div>\n",
       "<style scoped>\n",
       "    .dataframe tbody tr th:only-of-type {\n",
       "        vertical-align: middle;\n",
       "    }\n",
       "\n",
       "    .dataframe tbody tr th {\n",
       "        vertical-align: top;\n",
       "    }\n",
       "\n",
       "    .dataframe thead th {\n",
       "        text-align: right;\n",
       "    }\n",
       "</style>\n",
       "<table border=\"1\" class=\"dataframe\">\n",
       "  <thead>\n",
       "    <tr style=\"text-align: right;\">\n",
       "      <th></th>\n",
       "      <th>Team</th>\n",
       "      <th>finance</th>\n",
       "    </tr>\n",
       "  </thead>\n",
       "  <tbody>\n",
       "    <tr>\n",
       "      <th>0</th>\n",
       "      <td>Manchester City</td>\n",
       "      <td>1.009007e+09</td>\n",
       "    </tr>\n",
       "    <tr>\n",
       "      <th>1</th>\n",
       "      <td>Liverpool</td>\n",
       "      <td>8.416960e+08</td>\n",
       "    </tr>\n",
       "    <tr>\n",
       "      <th>2</th>\n",
       "      <td>Chelsea</td>\n",
       "      <td>7.853012e+08</td>\n",
       "    </tr>\n",
       "    <tr>\n",
       "      <th>3</th>\n",
       "      <td>Tottenham</td>\n",
       "      <td>7.408258e+08</td>\n",
       "    </tr>\n",
       "    <tr>\n",
       "      <th>4</th>\n",
       "      <td>Arsenal</td>\n",
       "      <td>7.074877e+08</td>\n",
       "    </tr>\n",
       "    <tr>\n",
       "      <th>5</th>\n",
       "      <td>Manchester United</td>\n",
       "      <td>5.557183e+08</td>\n",
       "    </tr>\n",
       "    <tr>\n",
       "      <th>6</th>\n",
       "      <td>Wolverhampton</td>\n",
       "      <td>3.780777e+08</td>\n",
       "    </tr>\n",
       "    <tr>\n",
       "      <th>7</th>\n",
       "      <td>Everton</td>\n",
       "      <td>3.125047e+08</td>\n",
       "    </tr>\n",
       "    <tr>\n",
       "      <th>8</th>\n",
       "      <td>Leicester</td>\n",
       "      <td>2.924619e+08</td>\n",
       "    </tr>\n",
       "    <tr>\n",
       "      <th>9</th>\n",
       "      <td>West Ham</td>\n",
       "      <td>2.418700e+08</td>\n",
       "    </tr>\n",
       "    <tr>\n",
       "      <th>10</th>\n",
       "      <td>Watford</td>\n",
       "      <td>2.406296e+08</td>\n",
       "    </tr>\n",
       "    <tr>\n",
       "      <th>11</th>\n",
       "      <td>Crystal Palace</td>\n",
       "      <td>2.330379e+08</td>\n",
       "    </tr>\n",
       "    <tr>\n",
       "      <th>12</th>\n",
       "      <td>Newcastle</td>\n",
       "      <td>2.203827e+08</td>\n",
       "    </tr>\n",
       "    <tr>\n",
       "      <th>13</th>\n",
       "      <td>Bournemouth</td>\n",
       "      <td>2.111020e+08</td>\n",
       "    </tr>\n",
       "    <tr>\n",
       "      <th>14</th>\n",
       "      <td>Burnley</td>\n",
       "      <td>1.861982e+08</td>\n",
       "    </tr>\n",
       "    <tr>\n",
       "      <th>15</th>\n",
       "      <td>Southampton</td>\n",
       "      <td>1.705023e+08</td>\n",
       "    </tr>\n",
       "    <tr>\n",
       "      <th>16</th>\n",
       "      <td>Brighton</td>\n",
       "      <td>1.608140e+08</td>\n",
       "    </tr>\n",
       "    <tr>\n",
       "      <th>17</th>\n",
       "      <td>Cardiff</td>\n",
       "      <td>1.605787e+08</td>\n",
       "    </tr>\n",
       "    <tr>\n",
       "      <th>18</th>\n",
       "      <td>Fulham</td>\n",
       "      <td>1.147588e+08</td>\n",
       "    </tr>\n",
       "    <tr>\n",
       "      <th>19</th>\n",
       "      <td>Huddersfield</td>\n",
       "      <td>9.515489e+07</td>\n",
       "    </tr>\n",
       "  </tbody>\n",
       "</table>\n",
       "</div>"
      ],
      "text/plain": [
       "                 Team       finance\n",
       "0     Manchester City  1.009007e+09\n",
       "1           Liverpool  8.416960e+08\n",
       "2             Chelsea  7.853012e+08\n",
       "3           Tottenham  7.408258e+08\n",
       "4             Arsenal  7.074877e+08\n",
       "5   Manchester United  5.557183e+08\n",
       "6       Wolverhampton  3.780777e+08\n",
       "7             Everton  3.125047e+08\n",
       "8           Leicester  2.924619e+08\n",
       "9            West Ham  2.418700e+08\n",
       "10            Watford  2.406296e+08\n",
       "11     Crystal Palace  2.330379e+08\n",
       "12          Newcastle  2.203827e+08\n",
       "13        Bournemouth  2.111020e+08\n",
       "14            Burnley  1.861982e+08\n",
       "15        Southampton  1.705023e+08\n",
       "16           Brighton  1.608140e+08\n",
       "17            Cardiff  1.605787e+08\n",
       "18             Fulham  1.147588e+08\n",
       "19       Huddersfield  9.515489e+07"
      ]
     },
     "execution_count": 87,
     "metadata": {},
     "output_type": "execute_result"
    }
   ],
   "source": [
    "df[['Team','finance']].sort_values(by='finance', ascending=False)"
   ]
  },
  {
   "cell_type": "code",
   "execution_count": 89,
   "metadata": {},
   "outputs": [
    {
     "name": "stdout",
     "output_type": "stream",
     "text": [
      "finance Percentile 80 is 714155341.77\n"
     ]
    },
    {
     "data": {
      "text/html": [
       "<div>\n",
       "<style scoped>\n",
       "    .dataframe tbody tr th:only-of-type {\n",
       "        vertical-align: middle;\n",
       "    }\n",
       "\n",
       "    .dataframe tbody tr th {\n",
       "        vertical-align: top;\n",
       "    }\n",
       "\n",
       "    .dataframe thead th {\n",
       "        text-align: right;\n",
       "    }\n",
       "</style>\n",
       "<table border=\"1\" class=\"dataframe\">\n",
       "  <thead>\n",
       "    <tr style=\"text-align: right;\">\n",
       "      <th></th>\n",
       "      <th>Team</th>\n",
       "      <th>finance</th>\n",
       "    </tr>\n",
       "  </thead>\n",
       "  <tbody>\n",
       "    <tr>\n",
       "      <th>0</th>\n",
       "      <td>Manchester City</td>\n",
       "      <td>1.009007e+09</td>\n",
       "    </tr>\n",
       "    <tr>\n",
       "      <th>1</th>\n",
       "      <td>Liverpool</td>\n",
       "      <td>8.416960e+08</td>\n",
       "    </tr>\n",
       "    <tr>\n",
       "      <th>2</th>\n",
       "      <td>Chelsea</td>\n",
       "      <td>7.853012e+08</td>\n",
       "    </tr>\n",
       "    <tr>\n",
       "      <th>3</th>\n",
       "      <td>Tottenham</td>\n",
       "      <td>7.408258e+08</td>\n",
       "    </tr>\n",
       "  </tbody>\n",
       "</table>\n",
       "</div>"
      ],
      "text/plain": [
       "              Team       finance\n",
       "0  Manchester City  1.009007e+09\n",
       "1        Liverpool  8.416960e+08\n",
       "2          Chelsea  7.853012e+08\n",
       "3        Tottenham  7.408258e+08"
      ]
     },
     "execution_count": 89,
     "metadata": {},
     "output_type": "execute_result"
    }
   ],
   "source": [
    "finance_percentile_80 = np.percentile(df[['finance']],80)\n",
    "print('finance Percentile 80 is',round(finance_percentile_80,2))\n",
    "df[df['finance']>=finance_percentile_80][['Team',\"finance\"]].sort_values('finance',ascending=False)"
   ]
  },
  {
   "cell_type": "markdown",
   "metadata": {},
   "source": [
    "### According to pareto rules, Manchester City, Liverpool, Chelsea and Tottenham can be classified as the teams with good financial aspects"
   ]
  },
  {
   "cell_type": "markdown",
   "metadata": {},
   "source": [
    "# EXPLORE THE CREATIVITY !"
   ]
  },
  {
   "cell_type": "code",
   "execution_count": 102,
   "metadata": {},
   "outputs": [
    {
     "data": {
      "image/png": "[encoded data removed]",
      "text/plain": [
       "<Figure size 720x720 with 20 Axes>"
      ]
     },
     "metadata": {},
     "output_type": "display_data"
    }
   ],
   "source": [
    "sns.pairplot(data=df[['general_points','attack_scored','defence_goals_conceeded','finance _team_market']])\n",
    "plt.show()"
   ]
  },
  {
   "cell_type": "code",
   "execution_count": null,
   "metadata": {},
   "outputs": [],
   "source": []
  }
 ],
 "metadata": {
  "kernelspec": {
   "display_name": "Python 3",
   "language": "python",
   "name": "python3"
  },
  "language_info": {
   "codemirror_mode": {
    "name": "ipython",
    "version": 3
   },
   "file_extension": ".py",
   "mimetype": "text/x-python",
   "name": "python",
   "nbconvert_exporter": "python",
   "pygments_lexer": "ipython3",
   "version": "3.7.6"
  }
 },
 "nbformat": 4,
 "nbformat_minor": 4
}
